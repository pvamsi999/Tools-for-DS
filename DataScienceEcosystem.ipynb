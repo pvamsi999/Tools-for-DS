{
 "cells": [
  {
   "cell_type": "markdown",
   "id": "b3d67629-f363-4e44-a767-1aa7390f6f7b",
   "metadata": {},
   "source": [
    "# Data Science Tools and Ecosystem"
   ]
  },
  {
   "cell_type": "markdown",
   "id": "05b31c8d-cb7a-42de-addf-a580a9a6f456",
   "metadata": {},
   "source": [
    "##### In this notebook, Data Science Tools and Ecosystem are summarized."
   ]
  },
  {
   "cell_type": "markdown",
   "id": "f5370188-946b-4f6a-a4c3-a6b9dfdccfa1",
   "metadata": {},
   "source": [
    "### **Objectives**:\n",
    "- List popular data science languages\n",
    "- Commonly used libraries\n",
    "- Some code examples"
   ]
  },
  {
   "cell_type": "markdown",
   "id": "adf9e284-bc47-4a13-839e-d1bbae2e303e",
   "metadata": {},
   "source": [
    "###### Some of the popular languages that Data Scientists use are:\n",
    "1. Python\n",
    "2. Java\n",
    "3. R "
   ]
  },
  {
   "cell_type": "markdown",
   "id": "6c190e7b-b794-4153-82c3-edf2e5f81daa",
   "metadata": {},
   "source": [
    "###### Some of the commonly used libraries used by Data Scientists include:\n",
    "1. Pandas\n",
    "2. Scala\n",
    "3. Numpy\n",
    "4. Scikit-learn"
   ]
  },
  {
   "attachments": {},
   "cell_type": "markdown",
   "id": "51d34259-1d94-4676-b4c6-cc8c768f7b8f",
   "metadata": {},
   "source": [
    "######\n",
    "| Data Science Tools|\n",
    "|--------------------|\n",
    "|Jyupiter Studio|\n",
    "|R Studio|\n",
    "| Visual Studio Code|\n"
   ]
  },
  {
   "cell_type": "markdown",
   "id": "e7e33c0c-75d9-4902-a98c-941cd50b4db4",
   "metadata": {},
   "source": [
    "### Below are a few examples of evaluating arithmetic expressions in Python"
   ]
  },
  {
   "cell_type": "code",
   "execution_count": 4,
   "id": "4fa1c1de-5fc5-4981-a661-70abedcc7c9d",
   "metadata": {},
   "outputs": [
    {
     "data": {
      "text/plain": [
       "17"
      ]
     },
     "execution_count": 4,
     "metadata": {},
     "output_type": "execute_result"
    }
   ],
   "source": [
    "(3*4)+5\n",
    "\n",
    "# This a simple arithmetic expression to mutiply then add integers"
   ]
  },
  {
   "cell_type": "code",
   "execution_count": 5,
   "id": "bb222dfb-b6c8-40de-aa09-e5c73a3df267",
   "metadata": {},
   "outputs": [
    {
     "data": {
      "text/plain": [
       "3.3333333333333335"
      ]
     },
     "execution_count": 5,
     "metadata": {},
     "output_type": "execute_result"
    }
   ],
   "source": [
    "200/60\n",
    "\n",
    "# This will convert 200 minutes to hours by diving by 60"
   ]
  },
  {
   "cell_type": "markdown",
   "id": "998b1dcc-411e-45e6-b8c1-1b265e506528",
   "metadata": {},
   "source": [
    "## Author\n",
    "\n",
    "Vamsi Parimi"
   ]
  },
  {
   "cell_type": "code",
   "execution_count": null,
   "id": "3389221a-7e3a-4c6c-906c-209d2cfeff8a",
   "metadata": {},
   "outputs": [],
   "source": []
  }
 ],
 "metadata": {
  "kernelspec": {
   "display_name": "Python 3 (ipykernel)",
   "language": "python",
   "name": "python3"
  },
  "language_info": {
   "codemirror_mode": {
    "name": "ipython",
    "version": 3
   },
   "file_extension": ".py",
   "mimetype": "text/x-python",
   "name": "python",
   "nbconvert_exporter": "python",
   "pygments_lexer": "ipython3",
   "version": "3.12.8"
  }
 },
 "nbformat": 4,
 "nbformat_minor": 5
}
